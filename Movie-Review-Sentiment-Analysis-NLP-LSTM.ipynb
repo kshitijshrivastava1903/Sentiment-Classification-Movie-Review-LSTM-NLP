{
 "cells": [
  {
   "cell_type": "code",
   "execution_count": 1,
   "metadata": {
    "_cell_guid": "b1076dfc-b9ad-4769-8c92-a6c4dae69d19",
    "_uuid": "8f2839f25d086af736a60e9eeb907d3b93b6e0e5"
   },
   "outputs": [
    {
     "name": "stdout",
     "output_type": "stream",
     "text": [
      "/kaggle/input/imdb-dataset-of-50k-movie-reviews/IMDB Dataset.csv\n"
     ]
    }
   ],
   "source": [
    "# This Python 3 environment comes with many helpful analytics libraries installed\n",
    "# It is defined by the kaggle/python Docker image: https://github.com/kaggle/docker-python\n",
    "# For example, here's several helpful packages to load\n",
    "\n",
    "import numpy as np # linear algebra\n",
    "import pandas as pd # data processing, CSV file I/O (e.g. pd.read_csv)\n",
    "\n",
    "# Input data files are available in the read-only \"../input/\" directory\n",
    "# For example, running this (by clicking run or pressing Shift+Enter) will list all files under the input directory\n",
    "\n",
    "import os\n",
    "for dirname, _, filenames in os.walk('/kaggle/input'):\n",
    "    for filename in filenames:\n",
    "        print(os.path.join(dirname, filename))\n",
    "\n",
    "# You can write up to 5GB to the current directory (/kaggle/working/) that gets preserved as output when you create a version using \"Save & Run All\" \n",
    "# You can also write temporary files to /kaggle/temp/, but they won't be saved outside of the current session"
   ]
  },
  {
   "cell_type": "markdown",
   "metadata": {},
   "source": [
    "# **Reading the movie review data in a dataframe df.**"
   ]
  },
  {
   "cell_type": "code",
   "execution_count": 2,
   "metadata": {
    "_cell_guid": "79c7e3d0-c299-4dcb-8224-4455121ee9b0",
    "_uuid": "d629ff2d2480ee46fbb7e2d37f6b5fab8052498a"
   },
   "outputs": [],
   "source": [
    "df = pd.read_csv('/kaggle/input/imdb-dataset-of-50k-movie-reviews/IMDB Dataset.csv')"
   ]
  },
  {
   "cell_type": "markdown",
   "metadata": {},
   "source": [
    "# **Having a look at the dataframe.**"
   ]
  },
  {
   "cell_type": "code",
   "execution_count": 3,
   "metadata": {},
   "outputs": [
    {
     "data": {
      "text/html": [
       "<div>\n",
       "<style scoped>\n",
       "    .dataframe tbody tr th:only-of-type {\n",
       "        vertical-align: middle;\n",
       "    }\n",
       "\n",
       "    .dataframe tbody tr th {\n",
       "        vertical-align: top;\n",
       "    }\n",
       "\n",
       "    .dataframe thead th {\n",
       "        text-align: right;\n",
       "    }\n",
       "</style>\n",
       "<table border=\"1\" class=\"dataframe\">\n",
       "  <thead>\n",
       "    <tr style=\"text-align: right;\">\n",
       "      <th></th>\n",
       "      <th>review</th>\n",
       "      <th>sentiment</th>\n",
       "    </tr>\n",
       "  </thead>\n",
       "  <tbody>\n",
       "    <tr>\n",
       "      <th>0</th>\n",
       "      <td>One of the other reviewers has mentioned that ...</td>\n",
       "      <td>positive</td>\n",
       "    </tr>\n",
       "    <tr>\n",
       "      <th>1</th>\n",
       "      <td>A wonderful little production. &lt;br /&gt;&lt;br /&gt;The...</td>\n",
       "      <td>positive</td>\n",
       "    </tr>\n",
       "    <tr>\n",
       "      <th>2</th>\n",
       "      <td>I thought this was a wonderful way to spend ti...</td>\n",
       "      <td>positive</td>\n",
       "    </tr>\n",
       "    <tr>\n",
       "      <th>3</th>\n",
       "      <td>Basically there's a family where a little boy ...</td>\n",
       "      <td>negative</td>\n",
       "    </tr>\n",
       "    <tr>\n",
       "      <th>4</th>\n",
       "      <td>Petter Mattei's \"Love in the Time of Money\" is...</td>\n",
       "      <td>positive</td>\n",
       "    </tr>\n",
       "    <tr>\n",
       "      <th>...</th>\n",
       "      <td>...</td>\n",
       "      <td>...</td>\n",
       "    </tr>\n",
       "    <tr>\n",
       "      <th>49995</th>\n",
       "      <td>I thought this movie did a down right good job...</td>\n",
       "      <td>positive</td>\n",
       "    </tr>\n",
       "    <tr>\n",
       "      <th>49996</th>\n",
       "      <td>Bad plot, bad dialogue, bad acting, idiotic di...</td>\n",
       "      <td>negative</td>\n",
       "    </tr>\n",
       "    <tr>\n",
       "      <th>49997</th>\n",
       "      <td>I am a Catholic taught in parochial elementary...</td>\n",
       "      <td>negative</td>\n",
       "    </tr>\n",
       "    <tr>\n",
       "      <th>49998</th>\n",
       "      <td>I'm going to have to disagree with the previou...</td>\n",
       "      <td>negative</td>\n",
       "    </tr>\n",
       "    <tr>\n",
       "      <th>49999</th>\n",
       "      <td>No one expects the Star Trek movies to be high...</td>\n",
       "      <td>negative</td>\n",
       "    </tr>\n",
       "  </tbody>\n",
       "</table>\n",
       "<p>50000 rows × 2 columns</p>\n",
       "</div>"
      ],
      "text/plain": [
       "                                                  review sentiment\n",
       "0      One of the other reviewers has mentioned that ...  positive\n",
       "1      A wonderful little production. <br /><br />The...  positive\n",
       "2      I thought this was a wonderful way to spend ti...  positive\n",
       "3      Basically there's a family where a little boy ...  negative\n",
       "4      Petter Mattei's \"Love in the Time of Money\" is...  positive\n",
       "...                                                  ...       ...\n",
       "49995  I thought this movie did a down right good job...  positive\n",
       "49996  Bad plot, bad dialogue, bad acting, idiotic di...  negative\n",
       "49997  I am a Catholic taught in parochial elementary...  negative\n",
       "49998  I'm going to have to disagree with the previou...  negative\n",
       "49999  No one expects the Star Trek movies to be high...  negative\n",
       "\n",
       "[50000 rows x 2 columns]"
      ]
     },
     "execution_count": 3,
     "metadata": {},
     "output_type": "execute_result"
    }
   ],
   "source": [
    "df"
   ]
  },
  {
   "cell_type": "markdown",
   "metadata": {},
   "source": [
    "# **We see that we have enough data to train. We have 50,000 review texts and their corresponding sentiments, but, these texts have to be pre-processed using natural language processing techniques as they contain unwanted elements like html tags, hashtags and special characters, that have no use for our model to train on.**"
   ]
  },
  {
   "cell_type": "markdown",
   "metadata": {},
   "source": [
    "# **Importing necessary libraries for pre-processing text and creation of the recurrent neural network.**"
   ]
  },
  {
   "cell_type": "code",
   "execution_count": 4,
   "metadata": {},
   "outputs": [],
   "source": [
    "import numpy as np\n",
    "import pandas as pd\n",
    "from keras.preprocessing.text import Tokenizer\n",
    "from keras.preprocessing.sequence import pad_sequences\n",
    "from keras.models import Sequential, load_model\n",
    "from keras.layers import Dense, Embedding, LSTM, Bidirectional,Flatten,Dropout\n",
    "from sklearn.model_selection import train_test_split\n",
    "from keras.utils.np_utils import to_categorical\n",
    "import re"
   ]
  },
  {
   "cell_type": "markdown",
   "metadata": {},
   "source": [
    "# **Creating functions to pre-process the review text using natural language processing techniques as they contain unwanted elements like html tags, hashtags, special characters, numbers, etc. and applying them to the review text column.**"
   ]
  },
  {
   "cell_type": "code",
   "execution_count": 5,
   "metadata": {},
   "outputs": [
    {
     "data": {
      "text/html": [
       "<div>\n",
       "<style scoped>\n",
       "    .dataframe tbody tr th:only-of-type {\n",
       "        vertical-align: middle;\n",
       "    }\n",
       "\n",
       "    .dataframe tbody tr th {\n",
       "        vertical-align: top;\n",
       "    }\n",
       "\n",
       "    .dataframe thead th {\n",
       "        text-align: right;\n",
       "    }\n",
       "</style>\n",
       "<table border=\"1\" class=\"dataframe\">\n",
       "  <thead>\n",
       "    <tr style=\"text-align: right;\">\n",
       "      <th></th>\n",
       "      <th>review</th>\n",
       "      <th>sentiment</th>\n",
       "    </tr>\n",
       "  </thead>\n",
       "  <tbody>\n",
       "    <tr>\n",
       "      <th>0</th>\n",
       "      <td>One of the other reviewers has mentioned that ...</td>\n",
       "      <td>positive</td>\n",
       "    </tr>\n",
       "    <tr>\n",
       "      <th>1</th>\n",
       "      <td>A wonderful little production   The filming te...</td>\n",
       "      <td>positive</td>\n",
       "    </tr>\n",
       "    <tr>\n",
       "      <th>2</th>\n",
       "      <td>I thought this was a wonderful way to spend ti...</td>\n",
       "      <td>positive</td>\n",
       "    </tr>\n",
       "    <tr>\n",
       "      <th>3</th>\n",
       "      <td>Basically theres a family where a little boy J...</td>\n",
       "      <td>negative</td>\n",
       "    </tr>\n",
       "    <tr>\n",
       "      <th>4</th>\n",
       "      <td>Petter Matteis Love in the Time of Money is a ...</td>\n",
       "      <td>positive</td>\n",
       "    </tr>\n",
       "  </tbody>\n",
       "</table>\n",
       "</div>"
      ],
      "text/plain": [
       "                                              review sentiment\n",
       "0  One of the other reviewers has mentioned that ...  positive\n",
       "1  A wonderful little production   The filming te...  positive\n",
       "2  I thought this was a wonderful way to spend ti...  positive\n",
       "3  Basically theres a family where a little boy J...  negative\n",
       "4  Petter Matteis Love in the Time of Money is a ...  positive"
      ]
     },
     "execution_count": 5,
     "metadata": {},
     "output_type": "execute_result"
    }
   ],
   "source": [
    "def remove_special_chars(tweets): # it unrolls the hashtags to normal words\n",
    "        alphanumeric=\"\"\n",
    "        for character in tweets:\n",
    "            if character.isalpha() or character==\" \":\n",
    "                alphanumeric += character\n",
    "        return alphanumeric\n",
    "def remove_tags(text):\n",
    "     return re.compile(r\"<[^>]+>\").sub(\" \", text)\n",
    "def remove_num(text):\n",
    "     return \"\".join(re.sub(r\"([0–9]+)\",\" \",text))\n",
    "#data = pd.read_csv('/content/IMDB Dataset.csv')\n",
    "df.review=df.review.apply(lambda x : remove_tags(x))\n",
    "df.review=df.review.apply(lambda x : remove_num(x))\n",
    "df.review=(df.review).apply(remove_special_chars)\n",
    "df.head()"
   ]
  },
  {
   "cell_type": "markdown",
   "metadata": {},
   "source": [
    "# **We will use the Tokenizer class from the keras.preprocessing.text module to create a word-to-index dictionary. In the word-to-index dictionary, each word in the corpus is used as a key, while a corresponding unique index is used as the value for the key. As we want each review to be of the same length so that it can be fit in the model, we pad it to get all reviews of the same length set the maximum size of each list to 500. The lists with a size greater than 500 will be truncated to 500. This process is called padding.**"
   ]
  },
  {
   "cell_type": "markdown",
   "metadata": {},
   "source": [
    "# **Since the sentiment is in the form of text (\"positive\" amd \"negative\"), converting them to numerical values using label encoder for our model to understand the sentiment in numerical form.**"
   ]
  },
  {
   "cell_type": "code",
   "execution_count": 6,
   "metadata": {},
   "outputs": [],
   "source": [
    "tokenizer = Tokenizer(num_words=5000)\n",
    "tokenizer.fit_on_texts(df.review)\n",
    "X = tokenizer.texts_to_sequences(df.review)\n",
    "X = pad_sequences(X,maxlen=500)\n",
    "Y = df.sentiment\n",
    "vocab_size = len(tokenizer.word_index) + 1\n",
    "# We can then create our train and test sets:\n",
    "X_train, X_test, Y_train, Y_test = train_test_split(X, Y, test_size=0.3, random_state = 24)\n",
    "#We store this tokenizer in a file to use later in web app\n",
    "import pickle\n",
    "# saving\n",
    "with open('tokenizer.pickle', 'wb') as handle:\n",
    "    pickle.dump(tokenizer, handle, protocol=pickle.HIGHEST_PROTOCOL)\n",
    "from sklearn.preprocessing import LabelEncoder\n",
    "def prepare_targets(y_train, y_test):\n",
    "     le = LabelEncoder()\n",
    "     le.fit(y_train)\n",
    "     y_train_enc = le.transform(y_train)\n",
    "     y_test_enc = le.transform(y_test)\n",
    "     return y_train_enc, y_test_enc\n",
    "ytrain,ytest = prepare_targets(Y_train,Y_test)"
   ]
  },
  {
   "cell_type": "markdown",
   "metadata": {},
   "source": [
    "# Now we design a sequential model using Keras. We add different layers such as embedding layer, Bi-LSTM layer and a dense layer.\n",
    "# Bidirectional Long Short-Term Memory (BiLSTM) is a type of recurrent neural networks. It processes data in two directions since it works with two hidden layers. This is the main point of divergence with LSTM. BiLSTM has proven good results in natural language processing. Adding dropout layer to reduce overfitting."
   ]
  },
  {
   "cell_type": "code",
   "execution_count": 7,
   "metadata": {},
   "outputs": [
    {
     "name": "stdout",
     "output_type": "stream",
     "text": [
      "Model: \"sequential\"\n",
      "_________________________________________________________________\n",
      "Layer (type)                 Output Shape              Param #   \n",
      "=================================================================\n",
      "embedding (Embedding)        (None, 500, 50)           8134400   \n",
      "_________________________________________________________________\n",
      "bidirectional (Bidirectional (None, 256)               183296    \n",
      "_________________________________________________________________\n",
      "dropout (Dropout)            (None, 256)               0         \n",
      "_________________________________________________________________\n",
      "dense (Dense)                (None, 1)                 257       \n",
      "=================================================================\n",
      "Total params: 8,317,953\n",
      "Trainable params: 8,317,953\n",
      "Non-trainable params: 0\n",
      "_________________________________________________________________\n"
     ]
    }
   ],
   "source": [
    "model = Sequential()\n",
    "model.add(Embedding(vocab_size, 50, input_length=500))\n",
    "model.add(Bidirectional(LSTM(128)))\n",
    "model.add(Dropout(0.5))\n",
    "model.add(Dense(1,activation='sigmoid'))\n",
    "model.compile(optimizer='adam',\n",
    " loss='binary_crossentropy',\n",
    " metrics=['accuracy'])\n",
    "model.summary()"
   ]
  },
  {
   "cell_type": "markdown",
   "metadata": {},
   "source": [
    "# Training the model for 10 epochs with appropriate hyperparameters."
   ]
  },
  {
   "cell_type": "code",
   "execution_count": 9,
   "metadata": {},
   "outputs": [
    {
     "name": "stdout",
     "output_type": "stream",
     "text": [
      "Epoch 1/10\n",
      "274/274 [==============================] - 408s 1s/step - loss: 0.4511 - accuracy: 0.7770\n",
      "Epoch 2/10\n",
      "274/274 [==============================] - 406s 1s/step - loss: 0.2844 - accuracy: 0.8902\n",
      "Epoch 3/10\n",
      "274/274 [==============================] - 405s 1s/step - loss: 0.2466 - accuracy: 0.9045\n",
      "Epoch 4/10\n",
      "274/274 [==============================] - 399s 1s/step - loss: 0.2273 - accuracy: 0.9139\n",
      "Epoch 5/10\n",
      "274/274 [==============================] - 400s 1s/step - loss: 0.1978 - accuracy: 0.9242\n",
      "Epoch 6/10\n",
      "274/274 [==============================] - 410s 1s/step - loss: 0.1761 - accuracy: 0.9331\n",
      "Epoch 7/10\n",
      "274/274 [==============================] - 409s 1s/step - loss: 0.2062 - accuracy: 0.9201\n",
      "Epoch 8/10\n",
      "274/274 [==============================] - 392s 1s/step - loss: 0.1837 - accuracy: 0.9299\n",
      "Epoch 9/10\n",
      "274/274 [==============================] - 393s 1s/step - loss: 0.1524 - accuracy: 0.9422\n",
      "Epoch 10/10\n",
      "274/274 [==============================] - 393s 1s/step - loss: 0.1273 - accuracy: 0.9541\n"
     ]
    }
   ],
   "source": [
    "from keras.callbacks import EarlyStopping\n",
    "es = EarlyStopping(monitor='val_loss', mode='min', verbose=1, patience=5)\n",
    "history=model.fit(X_train, ytrain,\n",
    " batch_size=128,\n",
    " epochs=10,\n",
    " callbacks=[es])"
   ]
  },
  {
   "cell_type": "markdown",
   "metadata": {},
   "source": [
    "# **Our model achieves good accuracy on the training set (95.41 %).**"
   ]
  },
  {
   "cell_type": "markdown",
   "metadata": {},
   "source": [
    "# Testing our model for new reviews, typed by me or taken from the internet. "
   ]
  },
  {
   "cell_type": "code",
   "execution_count": 99,
   "metadata": {},
   "outputs": [
    {
     "name": "stdout",
     "output_type": "stream",
     "text": [
      "Enter your review:\n",
      "Between the Lovecraftian overtones and Liberato’s performance,  The Beach House offers up beautifully shot terror and will make you think before opening your door.\n",
      "\n",
      "\n",
      "\n",
      "It is a positive review, with sentiment score [[0.9779469]]\n"
     ]
    }
   ],
   "source": [
    "print(\"Enter your review:\")\n",
    "string11=str(input())\n",
    "x_1=tokenizer.texts_to_sequences([string11])\n",
    "x_1 = pad_sequences(x_1,maxlen=500)\n",
    "a=model.predict(x_1)\n",
    "print()\n",
    "print()\n",
    "print()\n",
    "if a>=0.5:\n",
    "    print(\"It is a positive review, with sentiment score {}\".format(model.predict(x_1)))\n",
    "elif a<0.5:\n",
    "    print(\"It is a negative review, with sentiment score {}\".format(model.predict(x_1))) "
   ]
  },
  {
   "cell_type": "code",
   "execution_count": 80,
   "metadata": {},
   "outputs": [
    {
     "name": "stdout",
     "output_type": "stream",
     "text": [
      "Enter your review:\n",
      "suprised to see the extensive bad reviews, I decided to see the movie for myself and judge it. It was a nice watch, brought out some social issues and challenged some beliefs like trust on godmen, blind faith, parents undying love for children...thus while it may not sit well with our preconcieved notions, it challeneges us to think why we have these beliefs in the first place? And whether they are actually universal truths or just more of generational beliefs that are passed on to us.....forming sort of an archetype in out psyche. At the very basic level the movie tries to drill into you the difference between following God and following Godmen, especially giving people the status of God, and taking their word as word of God....it's made it amply clear that protagonist is not against God but against people using name of God for their benefit... it's a realisation and awareness the socio-political situation perhaps really needs....The movie has good twists which come as a surpirse, and a decent story line. I love how they've incorporated scenes, songs, moments and dialogues from sadak as flashbacks to give a feeling of continuity and give depth to Sanjay Dutt's character. Also subtle things sprinkled across for movie buffs to pick up on. I do think the first 10 mins of the movie probably should have been shown as flashback and the movie should have started from the scene where alia comes to Sanjay dutt for the pre arranged booking and he denies.... But other than this, the movie was actually nice....My vote is pls see the movie for yourself and don't believe the overly negative reviews given. You will actually enjoy it especially as a conversation starter and thought provoker.\n",
      "\n",
      "\n",
      "\n",
      "It is a positive review, with sentiment score [[0.9829088]]\n"
     ]
    }
   ],
   "source": [
    "print(\"Enter your review:\")\n",
    "string11=str(input())\n",
    "x_1=tokenizer.texts_to_sequences([string11])\n",
    "x_1 = pad_sequences(x_1,maxlen=500)\n",
    "a=model.predict(x_1)\n",
    "print()\n",
    "print()\n",
    "print()\n",
    "if a>=0.5:\n",
    "    print(\"It is a positive review, with sentiment score {}\".format(model.predict(x_1)))\n",
    "elif a<0.5:\n",
    "    print(\"It is a negative review, with sentiment score {}\".format(model.predict(x_1))) "
   ]
  },
  {
   "cell_type": "code",
   "execution_count": 82,
   "metadata": {},
   "outputs": [
    {
     "name": "stdout",
     "output_type": "stream",
     "text": [
      "Enter your review:\n",
      "No joke but Sadak 2 was really my most awaited film of 2020. As a school kid, I had bunked classes to watch the first part five times in its first week at Gemini cinema Bandra, my unbeaten record till date!! Featuring Sanjay Dutt as the sanki taxi driver Ravi who rescues his lady love Pooja Bhatt from clutches of the eunuch pimp Maharani, Sadak had terrific performances, Nadeem Shravan's extraordinary music and pulsating action in the climax which made it one of Mahesh Bhatt's most successful as well as memorable film till date. It is a perfect dose of entertainment for me - and I just love it.So naturally, I started watching Sadak 2 with high expectations- after all it had the legendary Bhatt Saahab returning to direction after twenty odd years, Sanju Baba and Pooja reprising their iconic roles with the current A lister Alia Bhatt added to the cast. And what did I get....Alia Bhatt screaming or hamming in every scene she appears, Sanju Baba largely ineffective with not even one good fight scene accorded to him, Pooja Bhatt heard (not even seen!!) as a ghostly voice who only Sanju can hear and a villain in form of Makarand Deshpande who cannot achieve even ten percent of what the late Sadashiv Amrapurkar did as the menacingly evil Maharani. Starting as a road trip for which Alia hires Sanju Baba as her cabbie, the inconsistent plot tries to cram in multiple characters and elements in to it. Aditya Roy Kapoor plays Alia's love interest who is falsely convicted by a fake godman (Deshpande). Alia, labelled a mentally unstable person, is running away from her parents who are andh bhakts of that godman. They keep chanting every single minute which gets irritating after a while. Somewhere in all this mess, there is good ole Gulshan Grover who claims to have chopped off his own hand to offer it to Jai Guruji. By the way, Grover is called Haathkata probably for this unique feat!!Truly, nothing makes sense in this sham of a screenplay penned by Bhatt Saahab where one phone call turns an otherwise scheming antagonist in to sympathising positive character and vice versa. Moreover, the music score, always his strong point, is absolutely pheeka here. Not a single song stays with you. I actually fast forwarded the last one thanking the Bhatts for taking this film digital instead of a theatrical release. Any positives then, you may ask? Well, the technical aspects are good enough. The production values are befitting an enterprise of this kind. And last but certainly not the least, Sanjay Dutt still commands a solid screen presence like he did in the 90s. Unfortunately, Sadak 2 doesn't do him any justice. Nor does it do any justice to its prequel lovers. Skip it.\n",
      "\n",
      "\n",
      "\n",
      "It is a negative review, with sentiment score [[0.27519912]]\n"
     ]
    }
   ],
   "source": [
    "print(\"Enter your review:\")\n",
    "string11=str(input())\n",
    "x_1=tokenizer.texts_to_sequences([string11])\n",
    "x_1 = pad_sequences(x_1,maxlen=500)\n",
    "a=model.predict(x_1)\n",
    "print()\n",
    "print()\n",
    "print()\n",
    "if a>=0.5:\n",
    "    print(\"It is a positive review, with sentiment score {}\".format(model.predict(x_1)))\n",
    "elif a<0.5:\n",
    "    print(\"It is a negative review, with sentiment score {}\".format(model.predict(x_1))) "
   ]
  },
  {
   "cell_type": "code",
   "execution_count": 83,
   "metadata": {},
   "outputs": [
    {
     "name": "stdout",
     "output_type": "stream",
     "text": [
      "Enter your review:\n",
      "Such foolish reasoning & pointless opinions made no sense. The director really had no idea what he was trying to make.Performance wise only Sanjay Dutt impresses. The villains hardly have much to do & Alia Bhatt irritates at times. Aditya Roy Kapur was rightfully a mere spectator\n",
      "\n",
      "\n",
      "\n",
      "It is a negative review, with sentiment score [[0.27764797]]\n"
     ]
    }
   ],
   "source": [
    "print(\"Enter your review:\")\n",
    "string11=str(input())\n",
    "x_1=tokenizer.texts_to_sequences([string11])\n",
    "x_1 = pad_sequences(x_1,maxlen=500)\n",
    "a=model.predict(x_1)\n",
    "print()\n",
    "print()\n",
    "print()\n",
    "if a>=0.5:\n",
    "    print(\"It is a positive review, with sentiment score {}\".format(model.predict(x_1)))\n",
    "elif a<0.5:\n",
    "    print(\"It is a negative review, with sentiment score {}\".format(model.predict(x_1))) "
   ]
  },
  {
   "cell_type": "code",
   "execution_count": 85,
   "metadata": {},
   "outputs": [
    {
     "name": "stdout",
     "output_type": "stream",
     "text": [
      "Enter your review:\n",
      "I would rather go for a walk than watch this boring, shit movie. Due to its stellar cast, I thought it would be a good movie, but it turned out to be the worst experience of my life. I am warning you, even if someone pays you money to watch this film, refuse the offer and go back home and spend time with your family and friends instead.\n",
      "\n",
      "\n",
      "\n",
      "It is a negative review, with sentiment score [[0.00284904]]\n"
     ]
    }
   ],
   "source": [
    "print(\"Enter your review:\")\n",
    "string11=str(input())\n",
    "x_1=tokenizer.texts_to_sequences([string11])\n",
    "x_1 = pad_sequences(x_1,maxlen=500)\n",
    "a=model.predict(x_1)\n",
    "print()\n",
    "print()\n",
    "print()\n",
    "if a>=0.5:\n",
    "    print(\"It is a positive review, with sentiment score {}\".format(model.predict(x_1)))\n",
    "elif a<0.5:\n",
    "    print(\"It is a negative review, with sentiment score {}\".format(model.predict(x_1))) "
   ]
  },
  {
   "cell_type": "code",
   "execution_count": 86,
   "metadata": {},
   "outputs": [
    {
     "name": "stdout",
     "output_type": "stream",
     "text": [
      "Enter your review:\n",
      "Direction is average we did not expect this type of execution from Bhatt. Dialogues avoidable.Bad VFX for showing  Kailash mansarover at the end\n",
      "\n",
      "\n",
      "\n",
      "It is a negative review, with sentiment score [[0.01568869]]\n"
     ]
    }
   ],
   "source": [
    "print(\"Enter your review:\")\n",
    "string11=str(input())\n",
    "x_1=tokenizer.texts_to_sequences([string11])\n",
    "x_1 = pad_sequences(x_1,maxlen=500)\n",
    "a=model.predict(x_1)\n",
    "print()\n",
    "print()\n",
    "print()\n",
    "if a>=0.5:\n",
    "    print(\"It is a positive review, with sentiment score {}\".format(model.predict(x_1)))\n",
    "elif a<0.5:\n",
    "    print(\"It is a negative review, with sentiment score {}\".format(model.predict(x_1))) "
   ]
  },
  {
   "cell_type": "code",
   "execution_count": 87,
   "metadata": {},
   "outputs": [
    {
     "name": "stdout",
     "output_type": "stream",
     "text": [
      "Enter your review:\n",
      "\"Drishyam is an outsanding thriller. Drishyam is a well directed movie, which keeps you hooked on to the screen. Mesmerizing at every move with classical end\n",
      "\n",
      "\n",
      "\n",
      "It is a positive review, with sentiment score [[0.99414897]]\n"
     ]
    }
   ],
   "source": [
    "print(\"Enter your review:\")\n",
    "string11=str(input())\n",
    "x_1=tokenizer.texts_to_sequences([string11])\n",
    "x_1 = pad_sequences(x_1,maxlen=500)\n",
    "a=model.predict(x_1)\n",
    "print()\n",
    "print()\n",
    "print()\n",
    "if a>=0.5:\n",
    "    print(\"It is a positive review, with sentiment score {}\".format(model.predict(x_1)))\n",
    "elif a<0.5:\n",
    "    print(\"It is a negative review, with sentiment score {}\".format(model.predict(x_1))) "
   ]
  },
  {
   "cell_type": "code",
   "execution_count": 90,
   "metadata": {},
   "outputs": [
    {
     "name": "stdout",
     "output_type": "stream",
     "text": [
      "Enter your review:\n",
      "sadak-2, the way it started, it looked very promising, it did live up to its expectation till interval. Post interval, you are gasping for breath as you do not know where the movie is heading to. At the end, you will feel like going to the box office and closing their shutters so that you can save other people's lives by not letting them buy the ticket of this horrible movie.\n",
      "\n",
      "\n",
      "\n",
      "It is a negative review, with sentiment score [[0.2821839]]\n"
     ]
    }
   ],
   "source": [
    "print(\"Enter your review:\")\n",
    "string11=str(input())\n",
    "x_1=tokenizer.texts_to_sequences([string11])\n",
    "x_1 = pad_sequences(x_1,maxlen=500)\n",
    "a=model.predict(x_1)\n",
    "print()\n",
    "print()\n",
    "print()\n",
    "if a>=0.5:\n",
    "    print(\"It is a positive review, with sentiment score {}\".format(model.predict(x_1)))\n",
    "elif a<0.5:\n",
    "    print(\"It is a negative review, with sentiment score {}\".format(model.predict(x_1))) "
   ]
  },
  {
   "cell_type": "code",
   "execution_count": 91,
   "metadata": {},
   "outputs": [
    {
     "name": "stdout",
     "output_type": "stream",
     "text": [
      "Enter your review:\n",
      "Three Idiots is a remarkable ahead of its time Bollywood blockbuster. This film is a comedy movie with strong acting, memorable characters, a perplexing storyline and most importantly, highly motivational movie to choose the right path in your life.\n",
      "\n",
      "\n",
      "\n",
      "It is a positive review, with sentiment score [[0.9743082]]\n"
     ]
    }
   ],
   "source": [
    "print(\"Enter your review:\")\n",
    "string11=str(input())\n",
    "x_1=tokenizer.texts_to_sequences([string11])\n",
    "x_1 = pad_sequences(x_1,maxlen=500)\n",
    "a=model.predict(x_1)\n",
    "print()\n",
    "print()\n",
    "print()\n",
    "if a>=0.5:\n",
    "    print(\"It is a positive review, with sentiment score {}\".format(model.predict(x_1)))\n",
    "elif a<0.5:\n",
    "    print(\"It is a negative review, with sentiment score {}\".format(model.predict(x_1))) "
   ]
  },
  {
   "cell_type": "code",
   "execution_count": 92,
   "metadata": {},
   "outputs": [
    {
     "name": "stdout",
     "output_type": "stream",
     "text": [
      "Enter your review:\n",
      "Over the course of five years, Vince Gilligan and his friends have constructed a world piece by piece, with attention to detail worthy of a Faberge egg. They created a compelling protagonist, a deeply flawed yet charismatic genius. They built a business at which he had savant-like skills, and depicted the family that often drove him crazy. Then blurred lines between the two. And in that way created a life for Walter White that many of us can relate to. But other great and groundbreaking TV dramas had done something similar, most notably David Chase’s The Sopranos, David Simon’s The Wire, and David Milch’s Deadwood. But Breaking Bad did something those iconic shows didn’t do. Show runner Vince Gilligan set his protagonist in motion. Television had always been about a kind of inertia. After every episode of M*A*S*H or The Rockford Files there’d be a cosmic reset button that would allow the characters to return to exactly where they started at the beginning of the episode. That’s how you can make the Korean War last eleven years. And as that first generation of shows from television’s post-millennial Golden Era threw off so many of the shackles of convention inherent in the medium, they kept this one. Tony Soprano was a man who didn’t change, couldn’t change. Jimmy Mac-Nu, Stringer Bell and other characters of The Wire fought hard for change—changing themselves and changing the system—but Simon’s message was that the drug/cop/court/prison/politics system in a fictionalized Baltimore was, tragically,  too big and too strong to be taken down by a few angry men and women. Vince Gilligan started Breaking Bad with no such constraints. Whereas Tony Soprano spent seven seasons running errands around North Jersey, Walter White embarked on an epic journey, tracing an arc reserved for iconic characters of literature and cinema like Jay Gatsby and Michael Corleone. As he morphed Mr. Chips into Scar face, Gilligan wrote his own version of The Great American Novel. On Steroids. Part of Breaking Bad’s grandeur stems from the medium itself. Watching The Godfather Part I and Part II takes about six and a half hours. You can read The Great Gatsby in roughly the same amount of time. When it’s over, Breaking Bad will span 62 episodes. We’ll have spent almost ten times as much time with Walt and Jesse and Sky as we did with Gatsby and Daisy or Michael Corleone and Tom Hag. We know Walter White in a way that few great characters have ever been known, coming to that knowledge organically, over time. But we spent that same kind of time with Tony Soprano and Mac-Nu. Breaking Bad differs from those shows--and surpasses them--in one important way. This is a story that’s moving toward an ending. The ending of The Sopranos, whether you loved it or hated it, was largely a non-ending. It was designed to make us think about the show and the act of watching it, as much as it made us think about Tony Soprano. The last season of The Wire, despite a number of resonant, even heartbreaking moments featuring Michael, Omar, and Bubbles, was simply not up to the standards of the four seasons that came before. Deadwood didn't have a proper series finale at all. For all their cardinal virtues, those other contenders for the Best Show Ever left us feeling somewhat unsatisfied\n",
      "\n",
      "\n",
      "\n",
      "It is a positive review, with sentiment score [[0.96612966]]\n"
     ]
    }
   ],
   "source": [
    "print(\"Enter your review:\")\n",
    "string11=str(input())\n",
    "x_1=tokenizer.texts_to_sequences([string11])\n",
    "x_1 = pad_sequences(x_1,maxlen=500)\n",
    "a=model.predict(x_1)\n",
    "print()\n",
    "print()\n",
    "print()\n",
    "if a>=0.5:\n",
    "    print(\"It is a positive review, with sentiment score {}\".format(model.predict(x_1)))\n",
    "elif a<0.5:\n",
    "    print(\"It is a negative review, with sentiment score {}\".format(model.predict(x_1))) "
   ]
  },
  {
   "cell_type": "code",
   "execution_count": 97,
   "metadata": {},
   "outputs": [
    {
     "name": "stdout",
     "output_type": "stream",
     "text": [
      "Enter your review:\n",
      "I will forever remember and keep this movie in my heart for the rest of my life.\n",
      "\n",
      "\n",
      "\n",
      "It is a positive review, with sentiment score [[0.9001584]]\n"
     ]
    }
   ],
   "source": [
    "print(\"Enter your review:\")\n",
    "string11=str(input())\n",
    "x_1=tokenizer.texts_to_sequences([string11])\n",
    "x_1 = pad_sequences(x_1,maxlen=500)\n",
    "a=model.predict(x_1)\n",
    "print()\n",
    "print()\n",
    "print()\n",
    "if a>=0.5:\n",
    "    print(\"It is a positive review, with sentiment score {}\".format(model.predict(x_1)))\n",
    "elif a<0.5:\n",
    "    print(\"It is a negative review, with sentiment score {}\".format(model.predict(x_1)))"
   ]
  },
  {
   "cell_type": "markdown",
   "metadata": {},
   "source": [
    "# This model can also be used to get to know the average sentiment of a list of many reviews, like thousands or millions of review texts, where it is not possible to read each and every comment and now how the audience feels about the movie."
   ]
  },
  {
   "cell_type": "code",
   "execution_count": 102,
   "metadata": {},
   "outputs": [
    {
     "name": "stdout",
     "output_type": "stream",
     "text": [
      "Average sentiment score for the above list of comments : 0.4105387\n"
     ]
    }
   ],
   "source": [
    "review_list=[\"I really hated this movie!!\",\"This movie was the worst experience of my life!!\",\"I wish I skipped watching this movie.\",\"This movie had absolutely no plot, no direction, poor dialogues\",\"I liked this movie\",\"I absolutely enjoyed this movie from the start to the end!!\",\"I will forever remember this movie in my heart for the rest of my life.\"]\n",
    "x_2=tokenizer.texts_to_sequences(review_list)\n",
    "x_2 = pad_sequences(x_2,maxlen=500)\n",
    "a=model.predict(x_2)\n",
    "print(\"Average sentiment score for the above list of comments : \"+str(np.average(a)))"
   ]
  }
 ],
 "metadata": {
  "kernelspec": {
   "display_name": "Python 3",
   "language": "python",
   "name": "python3"
  },
  "language_info": {
   "codemirror_mode": {
    "name": "ipython",
    "version": 3
   },
   "file_extension": ".py",
   "mimetype": "text/x-python",
   "name": "python",
   "nbconvert_exporter": "python",
   "pygments_lexer": "ipython3",
   "version": "3.8.2"
  }
 },
 "nbformat": 4,
 "nbformat_minor": 4
}
